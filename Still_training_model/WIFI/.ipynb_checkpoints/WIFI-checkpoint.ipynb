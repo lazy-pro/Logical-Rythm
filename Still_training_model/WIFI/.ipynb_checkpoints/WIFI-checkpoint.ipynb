{
 "cells": [
  {
   "cell_type": "code",
   "execution_count": 0,
   "metadata": {
    "colab": {},
    "colab_type": "code",
    "id": "-o4sO7k4fNdR"
   },
   "outputs": [],
   "source": [
    "import pandas as pd\n",
    "import numpy as np\n",
    "import matplotlib.pyplot as plt\n",
    "from sklearn.model_selection import train_test_split\n",
    "from sklearn import linear_model\n",
    "from sklearn.metrics import mean_squared_error\n",
    "from math import sqrt\n",
    "from sklearn.metrics import r2_score\n",
    "import sys\n",
    "from time import time\n",
    "import matplotlib.pyplot as plt\n",
    "from pandas.tools.plotting import scatter_matrix"
   ]
  },
  {
   "cell_type": "code",
   "execution_count": 0,
   "metadata": {
    "colab": {
     "base_uri": "https://localhost:8080/",
     "height": 252
    },
    "colab_type": "code",
    "id": "F9xqH_SAgIBt",
    "outputId": "c2ea0eed-bcac-4621-bdcf-3a710e46da56"
   },
   "outputs": [
    {
     "name": "stdout",
     "output_type": "stream",
     "text": [
      "<class 'pandas.core.frame.DataFrame'>\n",
      "RangeIndex: 1500 entries, 0 to 1499\n",
      "Data columns (total 9 columns):\n",
      "ID      1500 non-null object\n",
      "AP1     1500 non-null int64\n",
      "AP2     1500 non-null int64\n",
      "AP3     1500 non-null int64\n",
      "AP4     1500 non-null int64\n",
      "AP5     1500 non-null int64\n",
      "AP6     1500 non-null int64\n",
      "AP7     1500 non-null int64\n",
      "ROOM    1500 non-null int64\n",
      "dtypes: int64(8), object(1)\n",
      "memory usage: 105.5+ KB\n"
     ]
    }
   ],
   "source": [
    "data = pd.read_csv(\"./train1.csv\")\n",
    "\n",
    "data.info()"
   ]
  },
  {
   "cell_type": "code",
   "execution_count": 0,
   "metadata": {
    "colab": {
     "base_uri": "https://localhost:8080/",
     "height": 195
    },
    "colab_type": "code",
    "id": "1R5UoIhvkhhW",
    "outputId": "baf8265c-6f4a-4701-9f64-d2d6e46bf6e4"
   },
   "outputs": [
    {
     "data": {
      "text/html": [
       "<div>\n",
       "<style scoped>\n",
       "    .dataframe tbody tr th:only-of-type {\n",
       "        vertical-align: middle;\n",
       "    }\n",
       "\n",
       "    .dataframe tbody tr th {\n",
       "        vertical-align: top;\n",
       "    }\n",
       "\n",
       "    .dataframe thead th {\n",
       "        text-align: right;\n",
       "    }\n",
       "</style>\n",
       "<table border=\"1\" class=\"dataframe\">\n",
       "  <thead>\n",
       "    <tr style=\"text-align: right;\">\n",
       "      <th></th>\n",
       "      <th>ID</th>\n",
       "      <th>AP1</th>\n",
       "      <th>AP2</th>\n",
       "      <th>AP3</th>\n",
       "      <th>AP4</th>\n",
       "      <th>AP5</th>\n",
       "      <th>AP6</th>\n",
       "      <th>AP7</th>\n",
       "      <th>ROOM</th>\n",
       "    </tr>\n",
       "  </thead>\n",
       "  <tbody>\n",
       "    <tr>\n",
       "      <th>0</th>\n",
       "      <td>ID_1</td>\n",
       "      <td>-64</td>\n",
       "      <td>-56</td>\n",
       "      <td>-61</td>\n",
       "      <td>-66</td>\n",
       "      <td>-71</td>\n",
       "      <td>-82</td>\n",
       "      <td>-81</td>\n",
       "      <td>1</td>\n",
       "    </tr>\n",
       "    <tr>\n",
       "      <th>1</th>\n",
       "      <td>ID_2</td>\n",
       "      <td>-68</td>\n",
       "      <td>-57</td>\n",
       "      <td>-61</td>\n",
       "      <td>-65</td>\n",
       "      <td>-71</td>\n",
       "      <td>-85</td>\n",
       "      <td>-85</td>\n",
       "      <td>1</td>\n",
       "    </tr>\n",
       "    <tr>\n",
       "      <th>2</th>\n",
       "      <td>ID_3</td>\n",
       "      <td>-63</td>\n",
       "      <td>-60</td>\n",
       "      <td>-60</td>\n",
       "      <td>-67</td>\n",
       "      <td>-76</td>\n",
       "      <td>-85</td>\n",
       "      <td>-84</td>\n",
       "      <td>1</td>\n",
       "    </tr>\n",
       "    <tr>\n",
       "      <th>3</th>\n",
       "      <td>ID_4</td>\n",
       "      <td>-61</td>\n",
       "      <td>-60</td>\n",
       "      <td>-68</td>\n",
       "      <td>-62</td>\n",
       "      <td>-77</td>\n",
       "      <td>-90</td>\n",
       "      <td>-80</td>\n",
       "      <td>1</td>\n",
       "    </tr>\n",
       "    <tr>\n",
       "      <th>4</th>\n",
       "      <td>ID_5</td>\n",
       "      <td>-63</td>\n",
       "      <td>-65</td>\n",
       "      <td>-60</td>\n",
       "      <td>-63</td>\n",
       "      <td>-77</td>\n",
       "      <td>-81</td>\n",
       "      <td>-87</td>\n",
       "      <td>1</td>\n",
       "    </tr>\n",
       "  </tbody>\n",
       "</table>\n",
       "</div>"
      ],
      "text/plain": [
       "     ID  AP1  AP2  AP3  AP4  AP5  AP6  AP7  ROOM\n",
       "0  ID_1  -64  -56  -61  -66  -71  -82  -81     1\n",
       "1  ID_2  -68  -57  -61  -65  -71  -85  -85     1\n",
       "2  ID_3  -63  -60  -60  -67  -76  -85  -84     1\n",
       "3  ID_4  -61  -60  -68  -62  -77  -90  -80     1\n",
       "4  ID_5  -63  -65  -60  -63  -77  -81  -87     1"
      ]
     },
     "execution_count": 16,
     "metadata": {
      "tags": []
     },
     "output_type": "execute_result"
    }
   ],
   "source": [
    "data.head()"
   ]
  },
  {
   "cell_type": "code",
   "execution_count": 0,
   "metadata": {
    "colab": {
     "base_uri": "https://localhost:8080/",
     "height": 284
    },
    "colab_type": "code",
    "id": "R7D_1CevkmMI",
    "outputId": "da7a3fce-8b99-4214-e829-782d86d0708a"
   },
   "outputs": [
    {
     "data": {
      "text/html": [
       "<div>\n",
       "<style scoped>\n",
       "    .dataframe tbody tr th:only-of-type {\n",
       "        vertical-align: middle;\n",
       "    }\n",
       "\n",
       "    .dataframe tbody tr th {\n",
       "        vertical-align: top;\n",
       "    }\n",
       "\n",
       "    .dataframe thead th {\n",
       "        text-align: right;\n",
       "    }\n",
       "</style>\n",
       "<table border=\"1\" class=\"dataframe\">\n",
       "  <thead>\n",
       "    <tr style=\"text-align: right;\">\n",
       "      <th></th>\n",
       "      <th>AP1</th>\n",
       "      <th>AP2</th>\n",
       "      <th>AP3</th>\n",
       "      <th>AP4</th>\n",
       "      <th>AP5</th>\n",
       "      <th>AP6</th>\n",
       "      <th>AP7</th>\n",
       "      <th>ROOM</th>\n",
       "    </tr>\n",
       "  </thead>\n",
       "  <tbody>\n",
       "    <tr>\n",
       "      <th>count</th>\n",
       "      <td>1500.000000</td>\n",
       "      <td>1500.00000</td>\n",
       "      <td>1500.000000</td>\n",
       "      <td>1500.000000</td>\n",
       "      <td>1500.000000</td>\n",
       "      <td>1500.000000</td>\n",
       "      <td>1500.000000</td>\n",
       "      <td>1500.000000</td>\n",
       "    </tr>\n",
       "    <tr>\n",
       "      <th>mean</th>\n",
       "      <td>-52.319333</td>\n",
       "      <td>-55.95800</td>\n",
       "      <td>-55.319333</td>\n",
       "      <td>-53.800667</td>\n",
       "      <td>-62.905333</td>\n",
       "      <td>-81.188000</td>\n",
       "      <td>-81.973333</td>\n",
       "      <td>2.500000</td>\n",
       "    </tr>\n",
       "    <tr>\n",
       "      <th>std</th>\n",
       "      <td>11.672883</td>\n",
       "      <td>3.37834</td>\n",
       "      <td>5.132666</td>\n",
       "      <td>11.732435</td>\n",
       "      <td>9.127024</td>\n",
       "      <td>6.679002</td>\n",
       "      <td>6.676002</td>\n",
       "      <td>1.118407</td>\n",
       "    </tr>\n",
       "    <tr>\n",
       "      <th>min</th>\n",
       "      <td>-74.000000</td>\n",
       "      <td>-74.00000</td>\n",
       "      <td>-73.000000</td>\n",
       "      <td>-77.000000</td>\n",
       "      <td>-89.000000</td>\n",
       "      <td>-97.000000</td>\n",
       "      <td>-98.000000</td>\n",
       "      <td>1.000000</td>\n",
       "    </tr>\n",
       "    <tr>\n",
       "      <th>25%</th>\n",
       "      <td>-61.000000</td>\n",
       "      <td>-58.00000</td>\n",
       "      <td>-58.250000</td>\n",
       "      <td>-63.000000</td>\n",
       "      <td>-69.000000</td>\n",
       "      <td>-86.000000</td>\n",
       "      <td>-87.000000</td>\n",
       "      <td>1.750000</td>\n",
       "    </tr>\n",
       "    <tr>\n",
       "      <th>50%</th>\n",
       "      <td>-55.000000</td>\n",
       "      <td>-56.00000</td>\n",
       "      <td>-55.000000</td>\n",
       "      <td>-56.000000</td>\n",
       "      <td>-64.000000</td>\n",
       "      <td>-82.000000</td>\n",
       "      <td>-83.000000</td>\n",
       "      <td>2.500000</td>\n",
       "    </tr>\n",
       "    <tr>\n",
       "      <th>75%</th>\n",
       "      <td>-46.000000</td>\n",
       "      <td>-54.00000</td>\n",
       "      <td>-52.000000</td>\n",
       "      <td>-47.000000</td>\n",
       "      <td>-56.000000</td>\n",
       "      <td>-77.000000</td>\n",
       "      <td>-78.000000</td>\n",
       "      <td>3.250000</td>\n",
       "    </tr>\n",
       "    <tr>\n",
       "      <th>max</th>\n",
       "      <td>-10.000000</td>\n",
       "      <td>-46.00000</td>\n",
       "      <td>-40.000000</td>\n",
       "      <td>-11.000000</td>\n",
       "      <td>-36.000000</td>\n",
       "      <td>-61.000000</td>\n",
       "      <td>-63.000000</td>\n",
       "      <td>4.000000</td>\n",
       "    </tr>\n",
       "  </tbody>\n",
       "</table>\n",
       "</div>"
      ],
      "text/plain": [
       "               AP1         AP2          AP3          AP4          AP5  \\\n",
       "count  1500.000000  1500.00000  1500.000000  1500.000000  1500.000000   \n",
       "mean    -52.319333   -55.95800   -55.319333   -53.800667   -62.905333   \n",
       "std      11.672883     3.37834     5.132666    11.732435     9.127024   \n",
       "min     -74.000000   -74.00000   -73.000000   -77.000000   -89.000000   \n",
       "25%     -61.000000   -58.00000   -58.250000   -63.000000   -69.000000   \n",
       "50%     -55.000000   -56.00000   -55.000000   -56.000000   -64.000000   \n",
       "75%     -46.000000   -54.00000   -52.000000   -47.000000   -56.000000   \n",
       "max     -10.000000   -46.00000   -40.000000   -11.000000   -36.000000   \n",
       "\n",
       "               AP6          AP7         ROOM  \n",
       "count  1500.000000  1500.000000  1500.000000  \n",
       "mean    -81.188000   -81.973333     2.500000  \n",
       "std       6.679002     6.676002     1.118407  \n",
       "min     -97.000000   -98.000000     1.000000  \n",
       "25%     -86.000000   -87.000000     1.750000  \n",
       "50%     -82.000000   -83.000000     2.500000  \n",
       "75%     -77.000000   -78.000000     3.250000  \n",
       "max     -61.000000   -63.000000     4.000000  "
      ]
     },
     "execution_count": 17,
     "metadata": {
      "tags": []
     },
     "output_type": "execute_result"
    }
   ],
   "source": [
    "data.describe()"
   ]
  },
  {
   "cell_type": "code",
   "execution_count": 0,
   "metadata": {
    "colab": {
     "base_uri": "https://localhost:8080/",
     "height": 34
    },
    "colab_type": "code",
    "id": "xeD0TQoyktyu",
    "outputId": "b18de85b-d856-451f-90dc-aabed360b239"
   },
   "outputs": [
    {
     "data": {
      "text/plain": [
       "(1500, 9)"
      ]
     },
     "execution_count": 19,
     "metadata": {
      "tags": []
     },
     "output_type": "execute_result"
    }
   ],
   "source": [
    "data.shape"
   ]
  },
  {
   "cell_type": "code",
   "execution_count": 0,
   "metadata": {
    "colab": {
     "base_uri": "https://localhost:8080/",
     "height": 284
    },
    "colab_type": "code",
    "id": "ZbjFWZ5ogw4a",
    "outputId": "ecb6f2ba-67eb-468c-d560-cd3f2e82b5ca"
   },
   "outputs": [
    {
     "data": {
      "text/html": [
       "<div>\n",
       "<style scoped>\n",
       "    .dataframe tbody tr th:only-of-type {\n",
       "        vertical-align: middle;\n",
       "    }\n",
       "\n",
       "    .dataframe tbody tr th {\n",
       "        vertical-align: top;\n",
       "    }\n",
       "\n",
       "    .dataframe thead th {\n",
       "        text-align: right;\n",
       "    }\n",
       "</style>\n",
       "<table border=\"1\" class=\"dataframe\">\n",
       "  <thead>\n",
       "    <tr style=\"text-align: right;\">\n",
       "      <th></th>\n",
       "      <th>AP1</th>\n",
       "      <th>AP2</th>\n",
       "      <th>AP3</th>\n",
       "      <th>AP4</th>\n",
       "      <th>AP5</th>\n",
       "      <th>AP6</th>\n",
       "      <th>AP7</th>\n",
       "      <th>ROOM</th>\n",
       "    </tr>\n",
       "  </thead>\n",
       "  <tbody>\n",
       "    <tr>\n",
       "      <th>AP1</th>\n",
       "      <td>1.000000</td>\n",
       "      <td>-0.025001</td>\n",
       "      <td>0.008173</td>\n",
       "      <td>0.923140</td>\n",
       "      <td>-0.264992</td>\n",
       "      <td>0.719425</td>\n",
       "      <td>0.681010</td>\n",
       "      <td>-0.084136</td>\n",
       "    </tr>\n",
       "    <tr>\n",
       "      <th>AP2</th>\n",
       "      <td>-0.025001</td>\n",
       "      <td>1.000000</td>\n",
       "      <td>0.266312</td>\n",
       "      <td>-0.015241</td>\n",
       "      <td>0.171894</td>\n",
       "      <td>0.064655</td>\n",
       "      <td>0.037988</td>\n",
       "      <td>0.116089</td>\n",
       "    </tr>\n",
       "    <tr>\n",
       "      <th>AP3</th>\n",
       "      <td>0.008173</td>\n",
       "      <td>0.266312</td>\n",
       "      <td>1.000000</td>\n",
       "      <td>0.047409</td>\n",
       "      <td>0.598848</td>\n",
       "      <td>-0.106953</td>\n",
       "      <td>-0.090573</td>\n",
       "      <td>0.663055</td>\n",
       "    </tr>\n",
       "    <tr>\n",
       "      <th>AP4</th>\n",
       "      <td>0.923140</td>\n",
       "      <td>-0.015241</td>\n",
       "      <td>0.047409</td>\n",
       "      <td>1.000000</td>\n",
       "      <td>-0.251789</td>\n",
       "      <td>0.701984</td>\n",
       "      <td>0.667914</td>\n",
       "      <td>-0.051578</td>\n",
       "    </tr>\n",
       "    <tr>\n",
       "      <th>AP5</th>\n",
       "      <td>-0.264992</td>\n",
       "      <td>0.171894</td>\n",
       "      <td>0.598848</td>\n",
       "      <td>-0.251789</td>\n",
       "      <td>1.000000</td>\n",
       "      <td>-0.424032</td>\n",
       "      <td>-0.366804</td>\n",
       "      <td>0.813521</td>\n",
       "    </tr>\n",
       "    <tr>\n",
       "      <th>AP6</th>\n",
       "      <td>0.719425</td>\n",
       "      <td>0.064655</td>\n",
       "      <td>-0.106953</td>\n",
       "      <td>0.701984</td>\n",
       "      <td>-0.424032</td>\n",
       "      <td>1.000000</td>\n",
       "      <td>0.726351</td>\n",
       "      <td>-0.368125</td>\n",
       "    </tr>\n",
       "    <tr>\n",
       "      <th>AP7</th>\n",
       "      <td>0.681010</td>\n",
       "      <td>0.037988</td>\n",
       "      <td>-0.090573</td>\n",
       "      <td>0.667914</td>\n",
       "      <td>-0.366804</td>\n",
       "      <td>0.726351</td>\n",
       "      <td>1.000000</td>\n",
       "      <td>-0.315843</td>\n",
       "    </tr>\n",
       "    <tr>\n",
       "      <th>ROOM</th>\n",
       "      <td>-0.084136</td>\n",
       "      <td>0.116089</td>\n",
       "      <td>0.663055</td>\n",
       "      <td>-0.051578</td>\n",
       "      <td>0.813521</td>\n",
       "      <td>-0.368125</td>\n",
       "      <td>-0.315843</td>\n",
       "      <td>1.000000</td>\n",
       "    </tr>\n",
       "  </tbody>\n",
       "</table>\n",
       "</div>"
      ],
      "text/plain": [
       "           AP1       AP2       AP3       AP4       AP5       AP6       AP7  \\\n",
       "AP1   1.000000 -0.025001  0.008173  0.923140 -0.264992  0.719425  0.681010   \n",
       "AP2  -0.025001  1.000000  0.266312 -0.015241  0.171894  0.064655  0.037988   \n",
       "AP3   0.008173  0.266312  1.000000  0.047409  0.598848 -0.106953 -0.090573   \n",
       "AP4   0.923140 -0.015241  0.047409  1.000000 -0.251789  0.701984  0.667914   \n",
       "AP5  -0.264992  0.171894  0.598848 -0.251789  1.000000 -0.424032 -0.366804   \n",
       "AP6   0.719425  0.064655 -0.106953  0.701984 -0.424032  1.000000  0.726351   \n",
       "AP7   0.681010  0.037988 -0.090573  0.667914 -0.366804  0.726351  1.000000   \n",
       "ROOM -0.084136  0.116089  0.663055 -0.051578  0.813521 -0.368125 -0.315843   \n",
       "\n",
       "          ROOM  \n",
       "AP1  -0.084136  \n",
       "AP2   0.116089  \n",
       "AP3   0.663055  \n",
       "AP4  -0.051578  \n",
       "AP5   0.813521  \n",
       "AP6  -0.368125  \n",
       "AP7  -0.315843  \n",
       "ROOM  1.000000  "
      ]
     },
     "execution_count": 5,
     "metadata": {
      "tags": []
     },
     "output_type": "execute_result"
    }
   ],
   "source": [
    "data.corr()"
   ]
  },
  {
   "cell_type": "code",
   "execution_count": 0,
   "metadata": {
    "colab": {
     "base_uri": "https://localhost:8080/",
     "height": 530
    },
    "colab_type": "code",
    "id": "esdoICgclSqO",
    "outputId": "9423ea5e-3a5f-4298-a7e8-bc81b2e48c35"
   },
   "outputs": [
    {
     "data": {
      "text/plain": [
       "array([[<matplotlib.axes._subplots.AxesSubplot object at 0x7fac989a43c8>,\n",
       "        <matplotlib.axes._subplots.AxesSubplot object at 0x7fac98920828>,\n",
       "        <matplotlib.axes._subplots.AxesSubplot object at 0x7fac98a407b8>],\n",
       "       [<matplotlib.axes._subplots.AxesSubplot object at 0x7fac9887d080>,\n",
       "        <matplotlib.axes._subplots.AxesSubplot object at 0x7fac98835240>,\n",
       "        <matplotlib.axes._subplots.AxesSubplot object at 0x7fac98835278>],\n",
       "       [<matplotlib.axes._subplots.AxesSubplot object at 0x7fac988449e8>,\n",
       "        <matplotlib.axes._subplots.AxesSubplot object at 0x7fac987cbf60>,\n",
       "        <matplotlib.axes._subplots.AxesSubplot object at 0x7fac9878e080>]],\n",
       "      dtype=object)"
      ]
     },
     "execution_count": 20,
     "metadata": {
      "tags": []
     },
     "output_type": "execute_result"
    },
    {
     "data": {
      "image/png": "[encoded data removed]",
      "text/plain": [
       "<matplotlib.figure.Figure at 0x7fac98939f28>"
      ]
     },
     "metadata": {
      "tags": []
     },
     "output_type": "display_data"
    }
   ],
   "source": [
    "data.hist()"
   ]
  },
  {
   "cell_type": "code",
   "execution_count": 0,
   "metadata": {
    "colab": {
     "base_uri": "https://localhost:8080/",
     "height": 364
    },
    "colab_type": "code",
    "id": "Igxo04POlgDY",
    "outputId": "0f705c42-b5cf-4491-dc03-feb3dc2308eb"
   },
   "outputs": [
    {
     "data": {
      "text/plain": [
       "<matplotlib.axes._subplots.AxesSubplot at 0x7fac986f69b0>"
      ]
     },
     "execution_count": 21,
     "metadata": {
      "tags": []
     },
     "output_type": "execute_result"
    },
    {
     "data": {
      "image/png": "[encoded data removed]",
      "text/plain": [
       "<matplotlib.figure.Figure at 0x7fac9892abe0>"
      ]
     },
     "metadata": {
      "tags": []
     },
     "output_type": "display_data"
    }
   ],
   "source": [
    "data.plot()"
   ]
  },
  {
   "cell_type": "code",
   "execution_count": 0,
   "metadata": {
    "colab": {},
    "colab_type": "code",
    "id": "G92KNpKBhpqT"
   },
   "outputs": [],
   "source": [
    "used_features =[\n",
    "\t\"AP1\",\n",
    "    \"AP2\",\n",
    "    \"AP3\",\n",
    "    \"AP4\",\"AP5\",\"AP6\",\"AP7\"\n",
    "\t]\n",
    "features = data[used_features]\n",
    "labels = data[\"ROOM\"]\n",
    "\n",
    "features_train, features_test, labels_train, labels_test = train_test_split(features, labels, test_size=0.2, random_state=42)\n"
   ]
  },
  {
   "cell_type": "code",
   "execution_count": 0,
   "metadata": {
    "colab": {
     "base_uri": "https://localhost:8080/",
     "height": 34
    },
    "colab_type": "code",
    "id": "-cMUl4QHiIIm",
    "outputId": "675c56b2-b4cc-4c0f-8afb-0fc400ac8573"
   },
   "outputs": [
    {
     "name": "stdout",
     "output_type": "stream",
     "text": [
      "0.98\n"
     ]
    }
   ],
   "source": [
    "from sklearn.neighbors import KNeighborsClassifier\n",
    "clf = KNeighborsClassifier(n_neighbors=9)\n",
    "clf.fit(features_train,labels_train)\n",
    "print(clf.score(features_test,labels_test))"
   ]
  },
  {
   "cell_type": "code",
   "execution_count": 0,
   "metadata": {
    "colab": {},
    "colab_type": "code",
    "id": "D_SWJlTbipSj"
   },
   "outputs": [],
   "source": [
    "test = pd.read_csv(\"./test1.csv\")\n",
    "test_features = test[used_features]\n",
    "id = test[\"ID\"]\n",
    "\n",
    "clf.fit(features,labels)\n",
    "res=clf.predict(test_features)\n",
    "\n",
    "df = pd.DataFrame(data={\"Room\": res,\"Id\": id})\n",
    "df.to_csv(\"./out.csv\", sep=',',index=False)"
   ]
  }
 ],
 "metadata": {
  "colab": {
   "name": "WIFI.ipynb",
   "provenance": [],
   "toc_visible": true,
   "version": "0.3.2"
  },
  "kernelspec": {
   "display_name": "Python 3",
   "language": "python",
   "name": "python3"
  },
  "language_info": {
   "codemirror_mode": {
    "name": "ipython",
    "version": 3
   },
   "file_extension": ".py",
   "mimetype": "text/x-python",
   "name": "python",
   "nbconvert_exporter": "python",
   "pygments_lexer": "ipython3",
   "version": "3.7.0"
  }
 },
 "nbformat": 4,
 "nbformat_minor": 1
}
